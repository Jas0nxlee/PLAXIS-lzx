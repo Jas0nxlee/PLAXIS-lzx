{
 "cells": [
  {
   "cell_type": "markdown",
   "metadata": {},
   "source": [
    "# PLAXIS commands index\n",
    "\n",
    "Here you can find the relevant notebooks with examples of PLAXIS commands using the Python scripting capabilities."
   ]
  },
  {
   "cell_type": "markdown",
   "metadata": {
    "heading_collapsed": false
   },
   "source": [
    "## PLAXIS 3D"
   ]
  },
  {
   "cell_type": "markdown",
   "metadata": {
    "heading_collapsed": true
   },
   "source": [
    "### Input"
   ]
  },
  {
   "cell_type": "markdown",
   "metadata": {
    "heading_collapsed": true,
    "hidden": true
   },
   "source": [
    "#### A"
   ]
  },
  {
   "cell_type": "markdown",
   "metadata": {
    "hidden": true
   },
   "source": [
    "- [activate](input_notebooks/3d-python-inputcommands-activate.ipynb)\n",
    "- [add](input_notebooks/3d-python-inputcommands-add.ipynb)\n",
    "- [addedmass](input_notebooks/3d-python-inputcommands-addedmass.ipynb)\n",
    "- [addpoint](input_notebooks/3d-python-inputcommands-addpoint.ipynb)\n",
    "- [addsubcurve](input_notebooks/3d-python-inputcommands-addsubcurve.ipynb)\n",
    "- [addtunnelphaseroutine](input_notebooks/3d-python-inputcommands-addtunnelphaseroutine.ipynb)\n",
    "- [addtunnelphasestep](input_notebooks/3d-python-inputcommands-addtunnelphasestep.ipynb)\n",
    "- [addwaterpoint](input_notebooks/3d-python-inputcommands-addwaterpoint.ipynb)\n",
    "- [advance](input_notebooks/3d-python-inputcommands-advance.ipynb)\n",
    "- [allocmem](input_notebooks/3d-python-inputcommands-allocmem.ipynb)\n",
    "- [anchormat](input_notebooks/3d-python-inputcommands-anchormat.ipynb)\n",
    "- [apply](input_notebooks/3d-python-inputcommands-apply.ipynb)\n",
    "- [arrayp](input_notebooks/3d-python-inputcommands-arrayp.ipynb)\n",
    "- [arrayr](input_notebooks/3d-python-inputcommands-arrayr.ipynb)\n"
   ]
  },
  {
   "cell_type": "markdown",
   "metadata": {
    "heading_collapsed": true,
    "hidden": true
   },
   "source": [
    "#### B"
   ]
  },
  {
   "cell_type": "markdown",
   "metadata": {
    "hidden": true
   },
   "source": [
    "- [beam](input_notebooks/3d-python-inputcommands-beam.ipynb)\n",
    "- [beammat](input_notebooks/3d-python-inputcommands-beammat.ipynb)\n",
    "- [borehole](input_notebooks/3d-python-inputcommands-borehole.ipynb)\n"
   ]
  },
  {
   "cell_type": "markdown",
   "metadata": {
    "heading_collapsed": true,
    "hidden": true
   },
   "source": [
    "#### C"
   ]
  },
  {
   "cell_type": "markdown",
   "metadata": {
    "hidden": true
   },
   "source": [
    "- [calculate](input_notebooks/3d-python-inputcommands-calculate.ipynb)\n",
    "- [cable](input_notebooks/3d-python-inputcommands-cable.ipynb)\n",
    "- [cablemat](input_notebooks/3d-python-inputcommands-cablemat.ipynb)\n",
    "- [checkgeometry](input_notebooks/3d-python-inputcommands-checkgeometry.ipynb)\n",
    "- [checkcalculationconditions](input_notebooks/3d-python-inputcommands-checkcalculationconditions.ipynb)\n",
    "- [clear](input_notebooks/3d-python-inputcommands-clear.ipynb)\n",
    "- [clearmaterial](input_notebooks/3d-python-inputcommands-clearmaterial.ipynb)\n",
    "- [close](input_notebooks/3d-python-inputcommands-close.ipynb)\n",
    "- [coarsen](input_notebooks/3d-python-inputcommands-coarsen.ipynb)\n",
    "- [combine](input_notebooks/3d-python-inputcommands-combine.ipynb)\n",
    "- [commands](input_notebooks/3d-python-inputcommands-commands.ipynb)\n",
    "- [cone](input_notebooks/3d-python-inputcommands-cone.ipynb)\n",
    "- [connection](input_notebooks/3d-python-inputcommands-connection.ipynb)\n",
    "- [contraction](input_notebooks/3d-python-inputcommands-contraction.ipynb)\n",
    "- [copylayers](input_notebooks/3d-python-inputcommands-copylayers.ipynb)\n",
    "- [count](input_notebooks/3d-python-inputcommands-count.ipynb)\n",
    "- [countmeshnodes](input_notebooks/3d-python-inputcommands-countmeshnodes.ipynb)\n",
    "- [createreachedwl](input_notebooks/3d-python-inputcommands-createreachedwl.ipynb)\n",
    "- [createreachedwlandcontinue](input_notebooks/3d-python-inputcommands-createreachedwlandcontinue.ipynb)\n",
    "- [cuboid](input_notebooks/3d-python-inputcommands-cuboid.ipynb)\n",
    "- [cylinder](input_notebooks/3d-python-inputcommands-cylinder.ipynb)\n"
   ]
  },
  {
   "cell_type": "markdown",
   "metadata": {
    "heading_collapsed": true,
    "hidden": true
   },
   "source": [
    "#### D"
   ]
  },
  {
   "cell_type": "code",
   "execution_count": null,
   "metadata": {
    "hidden": true
   },
   "outputs": [],
   "source": [
    "- [deactivate](input_notebooks/3d-python-inputcommands-deactivate.ipynb)\n",
    "- [decomposeoutl](input_notebooks/3d-python-inputcommands-decomposeoutl.ipynb)\n",
    "- [decomposepolycurve](input_notebooks/3d-python-inputcommands-decomposepolycurve.ipynb)\n",
    "- [decomposesrf](input_notebooks/3d-python-inputcommands-decomposesrf.ipynb)\n",
    "- [decouplefromgenerator](input_notebooks/3d-python-inputcommands-decouplefromgenerator.ipynb)\n",
    "- [delete](input_notebooks/3d-python-inputcommands-delete.ipynb)\n",
    "- [deletepoint](input_notebooks/3d-python-inputcommands-deletepoint.ipynb)\n",
    "- [delruntimetoggle](input_notebooks/3d-python-inputcommands-delruntimetoggle.ipynb)\n",
    "- [dischargefunction](input_notebooks/3d-python-inputcommands-dischargefunction.ipynb)\n",
    "- [displmultiplier](input_notebooks/3d-python-inputcommands-displmultiplier.ipynb)\n",
    "- [dump](input_notebooks/3d-python-inputcommands-dump.ipynb)\n",
    "- [dumpbeams](input_notebooks/3d-python-inputcommands-dumpbeams.ipynb)\n",
    "- [dumpboreholes](input_notebooks/3d-python-inputcommands-dumpboreholes.ipynb)\n",
    "- [dumpcutobjects](input_notebooks/3d-python-inputcommands-dumpcutobjects.ipynb)\n",
    "- [dumpfixedendanchors](input_notebooks/3d-python-inputcommands-dumpfixedendanchors.ipynb)\n",
    "- [dumpgeogrids](input_notebooks/3d-python-inputcommands-dumpgeogrids.ipynb)\n",
    "- [dumpgroups](input_notebooks/3d-python-inputcommands-dumpgroups.ipynb)\n",
    "- [dumplinedispls](input_notebooks/3d-python-inputcommands-dumplinedispls.ipynb)\n",
    "- [dumplineloads](input_notebooks/3d-python-inputcommands-dumplineloads.ipynb)\n",
    "- [dumplines](input_notebooks/3d-python-inputcommands-dumplines.ipynb)\n",
    "- [dumpmaterials](input_notebooks/3d-python-inputcommands-dumpmaterials.ipynb)\n",
    "- [dumpmeshes](input_notebooks/3d-python-inputcommands-dumpmeshes.ipynb)\n",
    "- [dumpn2nanchors](input_notebooks/3d-python-inputcommands-dumpn2nanchors.ipynb)\n",
    "- [dumpnegativeinterfaces](input_notebooks/3d-python-inputcommands-dumpnegativeinterfaces.ipynb)\n",
    "- [dumpparamobject](input_notebooks/3d-python-inputcommands-dumpparamobject.ipynb)\n",
    "- [dumpphases](input_notebooks/3d-python-inputcommands-dumpphases.ipynb)\n",
    "- [dumppiles](input_notebooks/3d-python-inputcommands-dumppiles.ipynb)\n",
    "- [dumppointdispls](input_notebooks/3d-python-inputcommands-dumppointdispls.ipynb)\n",
    "- [dumppointloads](input_notebooks/3d-python-inputcommands-dumppointloads.ipynb)\n",
    "- [dumppoints](input_notebooks/3d-python-inputcommands-dumppoints.ipynb)\n",
    "- [dumppositiveinterfaces](input_notebooks/3d-python-inputcommands-dumppositiveinterfaces.ipynb)\n",
    "- [dumpsoillayers](input_notebooks/3d-python-inputcommands-dumpsoillayers.ipynb)\n",
    "- [dumpsoilvolumes](input_notebooks/3d-python-inputcommands-dumpsoilvolumes.ipynb)\n",
    "- [dumpsurfaces](input_notebooks/3d-python-inputcommands-dumpsurfaces.ipynb)\n",
    "- [dumpsurfdispls](input_notebooks/3d-python-inputcommands-dumpsurfdispls.ipynb)\n",
    "- [dumpsurfloads](input_notebooks/3d-python-inputcommands-dumpsurfloads.ipynb)\n",
    "- [dumpvolumes](input_notebooks/3d-python-inputcommands-dumpvolumes.ipynb)\n",
    "- [duplicate](input_notebooks/3d-python-inputcommands-duplicate.ipynb)\n"
   ]
  },
  {
   "cell_type": "markdown",
   "metadata": {
    "heading_collapsed": true,
    "hidden": true
   },
   "source": [
    "#### E"
   ]
  },
  {
   "cell_type": "markdown",
   "metadata": {
    "hidden": true
   },
   "source": [
    "- [echo](input_notebooks/3d-python-inputcommands-echo.ipynb)\n",
    "- [echotunnelvalidation](input_notebooks/3d-python-inputcommands-echotunnelvalidation.ipynb)\n",
    "- [embeddedbeam](input_notebooks/3d-python-inputcommands-embeddedbeam.ipynb)\n",
    "- [embeddedbeammat](input_notebooks/3d-python-inputcommands-embeddedbeammat.ipynb)\n",
    "- [export](input_notebooks/3d-python-inputcommands-export.ipynb)\n",
    "- [extendtosymmetryaxis](input_notebooks/3d-python-inputcommands-extendtosymmetryaxis.ipynb)\n",
    "- [extrude](input_notebooks/3d-python-inputcommands-extrude.ipynb)\n"
   ]
  },
  {
   "cell_type": "markdown",
   "metadata": {
    "heading_collapsed": true,
    "hidden": true
   },
   "source": [
    "#### F"
   ]
  },
  {
   "cell_type": "markdown",
   "metadata": {
    "hidden": true
   },
   "source": [
    "- [filter](input_notebooks/3d-python-inputcommands-filter.ipynb)\n",
    "- [findcutobject](input_notebooks/3d-python-inputcommands-findcutobject.ipynb)\n",
    "- [findstagedfeature](input_notebooks/3d-python-inputcommands-findstagedfeature.ipynb)\n",
    "- [fixedendanchor](input_notebooks/3d-python-inputcommands-fixedendanchor.ipynb)\n"
   ]
  },
  {
   "cell_type": "markdown",
   "metadata": {
    "heading_collapsed": true,
    "hidden": true
   },
   "source": [
    "#### G"
   ]
  },
  {
   "cell_type": "markdown",
   "metadata": {
    "hidden": true
   },
   "source": [
    "- [generatefromfielddata](input_notebooks/3d-python-inputcommands-generatefromfielddata.ipynb)\n",
    "- [generatesplittunnel](input_notebooks/3d-python-inputcommands-generatesplittunnel.ipynb)\n",
    "- [generatethicklining](input_notebooks/3d-python-inputcommands-generatethicklining.ipynb)\n",
    "- [generatetunnel](input_notebooks/3d-python-inputcommands-generatetunnel.ipynb)\n",
    "- [geogrid](input_notebooks/3d-python-inputcommands-geogrid.ipynb)\n",
    "- [geogridmat](input_notebooks/3d-python-inputcommands-geogridmat.ipynb)\n",
    "- [getcommonmeshnodes](input_notebooks/3d-python-inputcommands-getcommonmeshnodes.ipynb)\n",
    "- [getcurveresults](input_notebooks/3d-python-inputcommands-getcurveresults.ipynb)\n",
    "- [getlocalaxes](input_notebooks/3d-python-inputcommands-getlocalaxes.ipynb)\n",
    "- [getmeshlocalaxes](input_notebooks/3d-python-inputcommands-getmeshlocalaxes.ipynb)\n",
    "- [getnormal](input_notebooks/3d-python-inputcommands-getnormal.ipynb)\n",
    "- [getresults](input_notebooks/3d-python-inputcommands-getresults.ipynb)\n",
    "- [getsoillayerlevel](input_notebooks/3d-python-inputcommands-getsoillayerlevel.ipynb)\n",
    "- [getsoillayerporepressure](input_notebooks/3d-python-inputcommands-getsoillayerporepressure.ipynb)\n",
    "- [gettoggle](input_notebooks/3d-python-inputcommands-gettoggle.ipynb)\n",
    "- [getvalue](input_notebooks/3d-python-inputcommands-getvalue.ipynb)\n",
    "- [gotoflow](input_notebooks/3d-python-inputcommands-gotoflow.ipynb)\n",
    "- [gotomesh](input_notebooks/3d-python-inputcommands-gotomesh.ipynb)\n",
    "- [gotosoil](input_notebooks/3d-python-inputcommands-gotosoil.ipynb)\n",
    "- [gotostages](input_notebooks/3d-python-inputcommands-gotostages.ipynb)\n",
    "- [gotostructures](input_notebooks/3d-python-inputcommands-gotostructures.ipynb)\n",
    "- [gotowater](input_notebooks/3d-python-inputcommands-gotowater.ipynb)\n",
    "- [group](input_notebooks/3d-python-inputcommands-group.ipynb)\n",
    "- [groupfiltered](input_notebooks/3d-python-inputcommands-groupfiltered.ipynb)\n"
   ]
  },
  {
   "cell_type": "markdown",
   "metadata": {
    "heading_collapsed": true,
    "hidden": true
   },
   "source": [
    "#### H"
   ]
  },
  {
   "cell_type": "markdown",
   "metadata": {
    "hidden": true
   },
   "source": [
    "- [headfunction](input_notebooks/3d-python-inputcommands-headfunction.ipynb)\n",
    "- [help](input_notebooks/3d-python-inputcommands-help.ipynb)\n"
   ]
  },
  {
   "cell_type": "markdown",
   "metadata": {
    "heading_collapsed": true,
    "hidden": true
   },
   "source": [
    "#### I"
   ]
  },
  {
   "cell_type": "markdown",
   "metadata": {
    "hidden": true
   },
   "source": [
    "- [import](input_notebooks/3d-python-inputcommands-import.ipynb)\n",
    "- [importcrosssection](input_notebooks/3d-python-inputcommands-importcrosssection.ipynb)\n",
    "- [importfielddata](input_notebooks/3d-python-inputcommands-importfielddata.ipynb)\n",
    "- [importifc](input_notebooks/3d-python-inputcommands-importifc.ipynb)\n",
    "- [importpointcloud](input_notebooks/3d-python-inputcommands-importpointcloud.ipynb)\n",
    "- [importtrajectory](input_notebooks/3d-python-inputcommands-importtrajectory.ipynb)\n",
    "- [info](input_notebooks/3d-python-inputcommands-info.ipynb)\n",
    "- [initializerectangular](input_notebooks/3d-python-inputcommands-initializerectangular.ipynb)\n",
    "- [insert](input_notebooks/3d-python-inputcommands-insert.ipynb)\n",
    "- [insertphase](input_notebooks/3d-python-inputcommands-insertphase.ipynb)\n",
    "- [insertpoint](input_notebooks/3d-python-inputcommands-insertpoint.ipynb)\n",
    "- [insertsoillayer](input_notebooks/3d-python-inputcommands-insertsoillayer.ipynb)\n",
    "- [insertwaterpoint](input_notebooks/3d-python-inputcommands-insertwaterpoint.ipynb)\n",
    "- [intersect](input_notebooks/3d-python-inputcommands-intersect.ipynb)\n",
    "- [intersectsegments](input_notebooks/3d-python-inputcommands-intersectsegments.ipynb)\n",
    "- [invert](input_notebooks/3d-python-inputcommands-invert.ipynb)\n",
    "- [invertdirection](input_notebooks/3d-python-inputcommands-invertdirection.ipynb)\n",
    "- [invertnormal](input_notebooks/3d-python-inputcommands-invertnormal.ipynb)\n"
   ]
  },
  {
   "cell_type": "markdown",
   "metadata": {
    "heading_collapsed": true,
    "hidden": true
   },
   "source": [
    "#### K"
   ]
  },
  {
   "cell_type": "markdown",
   "metadata": {
    "hidden": true
   },
   "source": [
    "- [kill](input_notebooks/3d-python-inputcommands-kill.ipynb)\n"
   ]
  },
  {
   "cell_type": "markdown",
   "metadata": {
    "heading_collapsed": true,
    "hidden": true
   },
   "source": [
    "#### L"
   ]
  },
  {
   "cell_type": "markdown",
   "metadata": {
    "hidden": true
   },
   "source": [
    "- [line](input_notebooks/3d-python-inputcommands-line.ipynb)\n",
    "- [lineangles](input_notebooks/3d-python-inputcommands-lineangles.ipynb)\n",
    "- [linedispl](input_notebooks/3d-python-inputcommands-linedispl.ipynb)\n",
    "- [linedrain](input_notebooks/3d-python-inputcommands-linedrain.ipynb)\n",
    "- [lineload](input_notebooks/3d-python-inputcommands-lineload.ipynb)\n",
    "- [linemovement](input_notebooks/3d-python-inputcommands-linemovement.ipynb)\n",
    "- [lineparallel](input_notebooks/3d-python-inputcommands-lineparallel.ipynb)\n",
    "- [linerelative](input_notebooks/3d-python-inputcommands-linerelative.ipynb)\n",
    "- [linevector](input_notebooks/3d-python-inputcommands-linevector.ipynb)\n",
    "- [loadmultiplier](input_notebooks/3d-python-inputcommands-loadmultiplier.ipynb)\n",
    "- [loft](input_notebooks/3d-python-inputcommands-loft.ipynb)\n"
   ]
  },
  {
   "cell_type": "markdown",
   "metadata": {
    "heading_collapsed": true,
    "hidden": true
   },
   "source": [
    "#### M"
   ]
  },
  {
   "cell_type": "markdown",
   "metadata": {
    "hidden": true
   },
   "source": [
    "- [materialcommand](input_notebooks/3d-python-inputcommands-materialcommand.ipynb)\n",
    "- [mergeequivalents](input_notebooks/3d-python-inputcommands-mergeequivalents.ipynb)\n",
    "- [mesh](input_notebooks/3d-python-inputcommands-mesh.ipynb)\n",
    "- [meshd](input_notebooks/3d-python-inputcommands-meshd.ipynb)\n",
    "- [move](input_notebooks/3d-python-inputcommands-move.ipynb)\n",
    "- [movementfunction](input_notebooks/3d-python-inputcommands-movementfunction.ipynb)\n",
    "- [movepoint](input_notebooks/3d-python-inputcommands-movepoint.ipynb)\n",
    "- [multiply](input_notebooks/3d-python-inputcommands-multiply.ipynb)\n"
   ]
  },
  {
   "cell_type": "markdown",
   "metadata": {
    "heading_collapsed": true,
    "hidden": true
   },
   "source": [
    "#### N"
   ]
  },
  {
   "cell_type": "markdown",
   "metadata": {
    "hidden": true
   },
   "source": [
    "- [n2nanchor](input_notebooks/3d-python-inputcommands-n2nanchor.ipynb)\n",
    "- [neginterface](input_notebooks/3d-python-inputcommands-neginterface.ipynb)\n",
    "- [nurbscurve](input_notebooks/3d-python-inputcommands-nurbscurve.ipynb)\n",
    "- [nurbssurface](input_notebooks/3d-python-inputcommands-nurbssurface.ipynb)\n"
   ]
  },
  {
   "cell_type": "markdown",
   "metadata": {
    "heading_collapsed": true,
    "hidden": true
   },
   "source": [
    "#### O"
   ]
  },
  {
   "cell_type": "markdown",
   "metadata": {
    "hidden": true
   },
   "source": [
    "- [observers](input_notebooks/3d-python-inputcommands-observers.ipynb)\n"
   ]
  },
  {
   "cell_type": "markdown",
   "metadata": {
    "heading_collapsed": true,
    "hidden": true
   },
   "source": [
    "#### P"
   ]
  },
  {
   "cell_type": "markdown",
   "metadata": {
    "hidden": true
   },
   "source": [
    "- [phase](input_notebooks/3d-python-inputcommands-phase.ipynb)\n",
    "- [plate](input_notebooks/3d-python-inputcommands-plate.ipynb)\n",
    "- [platemat](input_notebooks/3d-python-inputcommands-platemat.ipynb)\n",
    "- [point](input_notebooks/3d-python-inputcommands-point.ipynb)\n",
    "- [pointdispl](input_notebooks/3d-python-inputcommands-pointdispl.ipynb)\n",
    "- [pointload](input_notebooks/3d-python-inputcommands-pointload.ipynb)\n",
    "- [pointmovement](input_notebooks/3d-python-inputcommands-pointmovement.ipynb)\n",
    "- [polycurve](input_notebooks/3d-python-inputcommands-polycurve.ipynb)\n",
    "- [polycurvechain](input_notebooks/3d-python-inputcommands-polycurvechain.ipynb)\n",
    "- [posinterface](input_notebooks/3d-python-inputcommands-posinterface.ipynb)\n",
    "- [predict](input_notebooks/3d-python-inputcommands-predict.ipynb)\n",
    "- [preview](input_notebooks/3d-python-inputcommands-preview.ipynb)\n",
    "- [projectpoints](input_notebooks/3d-python-inputcommands-projectpoints.ipynb)\n"
   ]
  },
  {
   "cell_type": "markdown",
   "metadata": {
    "heading_collapsed": true,
    "hidden": true
   },
   "source": [
    "#### R"
   ]
  },
  {
   "cell_type": "markdown",
   "metadata": {
    "hidden": true
   },
   "source": [
    "- [raise](input_notebooks/3d-python-inputcommands-raise.ipynb)\n",
    "- [raiseasync](input_notebooks/3d-python-inputcommands-raiseasync.ipynb)\n",
    "- [raisethreaded](input_notebooks/3d-python-inputcommands-raisethreaded.ipynb)\n",
    "- [redo](input_notebooks/3d-python-inputcommands-redo.ipynb)\n",
    "- [refine](input_notebooks/3d-python-inputcommands-refine.ipynb)\n",
    "- [regenerate](input_notebooks/3d-python-inputcommands-regenerate.ipynb)\n",
    "- [reinforcement](input_notebooks/3d-python-inputcommands-reinforcement.ipynb)\n",
    "- [removeintermediatesteps](input_notebooks/3d-python-inputcommands-removeintermediatesteps.ipynb)\n",
    "- [removetunnelphaseroutine](input_notebooks/3d-python-inputcommands-removetunnelphaseroutine.ipynb)\n",
    "- [removetunnelphasestep](input_notebooks/3d-python-inputcommands-removetunnelphasestep.ipynb)\n",
    "- [rename](input_notebooks/3d-python-inputcommands-rename.ipynb)\n",
    "- [reportmem](input_notebooks/3d-python-inputcommands-reportmem.ipynb)\n",
    "- [reset](input_notebooks/3d-python-inputcommands-reset.ipynb)\n",
    "- [resetlocal](input_notebooks/3d-python-inputcommands-resetlocal.ipynb)\n",
    "- [retrievesuggestedparameters](input_notebooks/3d-python-inputcommands-retrievesuggestedparameters.ipynb)\n",
    "- [revolve](input_notebooks/3d-python-inputcommands-revolve.ipynb)\n",
    "- [rigidbody](input_notebooks/3d-python-inputcommands-rigidbody.ipynb)\n",
    "- [rotate](input_notebooks/3d-python-inputcommands-rotate.ipynb)\n",
    "- [rotateline](input_notebooks/3d-python-inputcommands-rotateline.ipynb)\n"
   ]
  },
  {
   "cell_type": "markdown",
   "metadata": {
    "heading_collapsed": true,
    "hidden": true
   },
   "source": [
    "#### S"
   ]
  },
  {
   "cell_type": "code",
   "execution_count": null,
   "metadata": {
    "hidden": true
   },
   "outputs": [],
   "source": [
    "- [save](input_notebooks/3d-python-inputcommands-save.ipynb)\n",
    "- [saveobjects](input_notebooks/3d-python-inputcommands-saveobjects.ipynb)\n",
    "- [selectmeshpoints](input_notebooks/3d-python-inputcommands-selectmeshpoints.ipynb)\n",
    "- [set](input_notebooks/3d-python-inputcommands-set.ipynb)\n",
    "- [setcolour](input_notebooks/3d-python-inputcommands-setcolour.ipynb)\n",
    "- [setcurrentphase](input_notebooks/3d-python-inputcommands-setcurrentphase.ipynb)\n",
    "- [setdefaultmaterial](input_notebooks/3d-python-inputcommands-setdefaultmaterial.ipynb)\n",
    "- [setglobalwaterlevel](input_notebooks/3d-python-inputcommands-setglobalwaterlevel.ipynb)\n",
    "- [setinsertionpoint](input_notebooks/3d-python-inputcommands-setinsertionpoint.ipynb)\n",
    "- [setmaterial](input_notebooks/3d-python-inputcommands-setmaterial.ipynb)\n",
    "- [setphysicalcpucount](input_notebooks/3d-python-inputcommands-setphysicalcpucount.ipynb)\n",
    "- [setproperties](input_notebooks/3d-python-inputcommands-setproperties.ipynb)\n",
    "- [setsoillayerlevel](input_notebooks/3d-python-inputcommands-setsoillayerlevel.ipynb)\n",
    "- [setsoillayerporepressure](input_notebooks/3d-python-inputcommands-setsoillayerporepressure.ipynb)\n",
    "- [settoggle](input_notebooks/3d-python-inputcommands-settoggle.ipynb)\n",
    "- [setundostacksize](input_notebooks/3d-python-inputcommands-setundostacksize.ipynb)\n",
    "- [setwaterdry](input_notebooks/3d-python-inputcommands-setwaterdry.ipynb)\n",
    "- [setwaterinterpolate](input_notebooks/3d-python-inputcommands-setwaterinterpolate.ipynb)\n",
    "- [setwaterlevel](input_notebooks/3d-python-inputcommands-setwaterlevel.ipynb)\n",
    "- [sleep](input_notebooks/3d-python-inputcommands-sleep.ipynb)\n",
    "- [slicemerge](input_notebooks/3d-python-inputcommands-slicemerge.ipynb)\n",
    "- [slicemergeall](input_notebooks/3d-python-inputcommands-slicemergeall.ipynb)\n",
    "- [slicingreset](input_notebooks/3d-python-inputcommands-slicingreset.ipynb)\n",
    "- [snap](input_notebooks/3d-python-inputcommands-snap.ipynb)\n",
    "- [snaplinear](input_notebooks/3d-python-inputcommands-snaplinear.ipynb)\n",
    "- [soil](input_notebooks/3d-python-inputcommands-soil.ipynb)\n",
    "- [soillayer](input_notebooks/3d-python-inputcommands-soillayer.ipynb)\n",
    "- [soillayerheight](input_notebooks/3d-python-inputcommands-soillayerheight.ipynb)\n",
    "- [soilmat](input_notebooks/3d-python-inputcommands-soilmat.ipynb)\n",
    "- [sphere](input_notebooks/3d-python-inputcommands-sphere.ipynb)\n",
    "- [surface](input_notebooks/3d-python-inputcommands-surface.ipynb)\n",
    "- [surfdispl](input_notebooks/3d-python-inputcommands-surfdispl.ipynb)\n",
    "- [surfdrain](input_notebooks/3d-python-inputcommands-surfdrain.ipynb)\n",
    "- [surfgwfbc](input_notebooks/3d-python-inputcommands-surfgwfbc.ipynb)\n",
    "- [surfload](input_notebooks/3d-python-inputcommands-surfload.ipynb)\n",
    "- [symmetricclose](input_notebooks/3d-python-inputcommands-symmetricclose.ipynb)\n"
   ]
  },
  {
   "cell_type": "markdown",
   "metadata": {
    "heading_collapsed": true,
    "hidden": true
   },
   "source": [
    "#### T"
   ]
  },
  {
   "cell_type": "markdown",
   "metadata": {
    "hidden": true
   },
   "source": [
    "- [tabulate](input_notebooks/3d-python-inputcommands-tabulate.ipynb)\n",
    "- [testasync](input_notebooks/3d-python-inputcommands-testasync.ipynb)\n",
    "- [transform](input_notebooks/3d-python-inputcommands-transform.ipynb)\n",
    "- [translateline](input_notebooks/3d-python-inputcommands-translateline.ipynb)\n",
    "- [tunnel](input_notebooks/3d-python-inputcommands-tunnel.ipynb)\n"
   ]
  },
  {
   "cell_type": "markdown",
   "metadata": {
    "heading_collapsed": true,
    "hidden": true
   },
   "source": [
    "#### U"
   ]
  },
  {
   "cell_type": "markdown",
   "metadata": {
    "hidden": true
   },
   "source": [
    "- [unassign](input_notebooks/2d-python-inputcommands-unassign.ipynb)\n",
    "- [undo](input_notebooks/3d-python-inputcommands-undo.ipynb)\n",
    "- [ungroup](input_notebooks/3d-python-inputcommands-ungroup.ipynb)\n",
    "- [usecustombottomsurface](input_notebooks/3d-python-inputcommands-usecustombottomsurface.ipynb)\n",
    "- [usecustomtopsurface](input_notebooks/3d-python-inputcommands-usecustomtopsurface.ipynb)\n"
   ]
  },
  {
   "cell_type": "markdown",
   "metadata": {
    "heading_collapsed": true,
    "hidden": true
   },
   "source": [
    "#### V"
   ]
  },
  {
   "cell_type": "markdown",
   "metadata": {
    "hidden": true
   },
   "source": [
    "- [validate](input_notebooks/3d-python-inputcommands-validate.ipynb)\n",
    "- [view](input_notebooks/3d-python-inputcommands-view.ipynb)\n",
    "- [viewmesh](input_notebooks/3d-python-inputcommands-viewmesh.ipynb)\n"
   ]
  },
  {
   "cell_type": "markdown",
   "metadata": {
    "heading_collapsed": true,
    "hidden": true
   },
   "source": [
    "#### W"
   ]
  },
  {
   "cell_type": "markdown",
   "metadata": {
    "hidden": true
   },
   "source": [
    "- [waterlevel](input_notebooks/3d-python-inputcommands-waterlevel.ipynb)\n",
    "- [well](input_notebooks/3d-python-inputcommands-well.ipynb)\n",
    "- [writephasestomesh](input_notebooks/3d-python-inputcommands-writephasestomesh.ipynb)\n"
   ]
  },
  {
   "cell_type": "markdown",
   "metadata": {
    "heading_collapsed": true
   },
   "source": [
    "### Output"
   ]
  },
  {
   "cell_type": "markdown",
   "metadata": {
    "heading_collapsed": true,
    "hidden": true
   },
   "source": [
    "#### A"
   ]
  },
  {
   "cell_type": "markdown",
   "metadata": {
    "hidden": true
   },
   "source": [
    "- [add](output_notebooks/3d-python-outputcommands-add.ipynb)\n",
    "- [addcurvepoint](output_notebooks/3d-python-outputcommands-addcurvepoint.ipynb)\n",
    "- [allocmem](output_notebooks/3d-python-outputcommands-allocmem.ipynb)\n",
    "- [apply](output_notebooks/3d-python-outputcommands-apply.ipynb)\n"
   ]
  },
  {
   "cell_type": "markdown",
   "metadata": {
    "heading_collapsed": true,
    "hidden": true
   },
   "source": [
    "#### C"
   ]
  },
  {
   "cell_type": "code",
   "execution_count": null,
   "metadata": {
    "hidden": true
   },
   "outputs": [],
   "source": [
    "- [centerline](output_notebooks/3d-python-outputcommands-centerline.ipynb)\n",
    "- [centerlineconfig](output_notebooks/3d-python-outputcommands-centerlineconfig.ipynb)\n",
    "- [clearcurvepoints](output_notebooks/3d-python-outputcommands-clearcurvepoints.ipynb)\n",
    "- [close](output_notebooks/3d-python-outputcommands-close.ipynb)\n",
    "- [commands](output_notebooks/3d-python-outputcommands-commands.ipynb)\n",
    "- [count](output_notebooks/3d-python-outputcommands-count.ipynb)\n",
    "- [crosssectionplot](output_notebooks/3d-python-outputcommands-crosssectionplot.ipynb)\n"
   ]
  },
  {
   "cell_type": "markdown",
   "metadata": {
    "heading_collapsed": true,
    "hidden": true
   },
   "source": [
    "#### D"
   ]
  },
  {
   "cell_type": "markdown",
   "metadata": {
    "hidden": true
   },
   "source": [
    "- [delete](output_notebooks/3d-python-outputcommands-delete.ipynb)\n",
    "- [dump](output_notebooks/3d-python-outputcommands-dump.ipynb)\n"
   ]
  },
  {
   "cell_type": "markdown",
   "metadata": {
    "heading_collapsed": true,
    "hidden": true
   },
   "source": [
    "#### E"
   ]
  },
  {
   "cell_type": "markdown",
   "metadata": {
    "hidden": true
   },
   "source": [
    "- [echo](output_notebooks/3d-python-outputcommands-echo.ipynb)\n",
    "- [export](output_notebooks/3d-python-outputcommands-export.ipynb)\n"
   ]
  },
  {
   "cell_type": "markdown",
   "metadata": {
    "heading_collapsed": true,
    "hidden": true
   },
   "source": [
    "#### F"
   ]
  },
  {
   "cell_type": "markdown",
   "metadata": {
    "hidden": true
   },
   "source": [
    "- [filter](output_notebooks/3d-python-outputcommands-filter.ipynb)\n"
   ]
  },
  {
   "cell_type": "markdown",
   "metadata": {
    "heading_collapsed": true,
    "hidden": true
   },
   "source": [
    "#### G"
   ]
  },
  {
   "cell_type": "markdown",
   "metadata": {
    "hidden": true
   },
   "source": [
    "- [generate](output_notebooks/3d-python-outputcommands-generate.ipynb)\n",
    "- [getcrossectionresults](output_notebooks/3d-python-outputcommands-getcrosssectionresults.ipynb)\n",
    "- [getcurveresults](output_notebooks/3d-python-outputcommands-getcurveresults.ipynb)\n",
    "- [getcurveresultspath](output_notebooks/3d-python-outputcommands-getcurveresultspath.ipynb)\n",
    "- [getresults](output_notebooks/3d-python-outputcommands-getresults.ipynb)\n",
    "- [getsingleresult](output_notebooks/3d-python-outputcommands-getsingleresult.ipynb)\n"
   ]
  },
  {
   "cell_type": "markdown",
   "metadata": {
    "heading_collapsed": true,
    "hidden": true
   },
   "source": [
    "#### H"
   ]
  },
  {
   "cell_type": "markdown",
   "metadata": {
    "hidden": true
   },
   "source": [
    "- [hide](output_notebooks/3d-python-outputcommands-hide.ipynb)\n"
   ]
  },
  {
   "cell_type": "markdown",
   "metadata": {
    "heading_collapsed": true,
    "hidden": true
   },
   "source": [
    "#### I"
   ]
  },
  {
   "cell_type": "markdown",
   "metadata": {
    "hidden": true
   },
   "source": [
    "- [index](output_notebooks/3d-python-outputcommands-index.ipynb)\n",
    "- [info](output_notebooks/3d-python-outputcommands-info.ipynb)\n"
   ]
  },
  {
   "cell_type": "markdown",
   "metadata": {
    "heading_collapsed": true,
    "hidden": true
   },
   "source": [
    "#### L"
   ]
  },
  {
   "cell_type": "markdown",
   "metadata": {
    "hidden": true
   },
   "source": [
    "- [linecrosssectionplot](output_notebooks/3d-python-outputcommands-linecrosssectionplot.ipynb)\n"
   ]
  },
  {
   "cell_type": "markdown",
   "metadata": {
    "heading_collapsed": true,
    "hidden": true
   },
   "source": [
    "#### R"
   ]
  },
  {
   "cell_type": "markdown",
   "metadata": {
    "hidden": true
   },
   "source": [
    "- [raise](output_notebooks/3d-python-outputcommands-raise.ipynb)\n",
    "- [raiseasync](output_notebooks/3d-python-outputcommands-raiseasync.ipynb)\n",
    "- [raisethreaded](output_notebooks/3d-python-outputcommands-raisethreaded.ipynb)\n",
    "- [rename](output_notebooks/3d-python-outputcommands-rename.ipynb)\n",
    "- [reportmem](output_notebooks/3d-python-outputcommands-reportmem.ipynb)\n"
   ]
  },
  {
   "cell_type": "markdown",
   "metadata": {
    "heading_collapsed": true,
    "hidden": true
   },
   "source": [
    "#### S"
   ]
  },
  {
   "cell_type": "markdown",
   "metadata": {
    "hidden": true
   },
   "source": [
    "- [set](output_notebooks/3d-python-outputcommands-set.ipynb)\n",
    "- [setphysicalcpucount](output_notebooks/3d-python-outputcommands-setphysicalcpucount.ipynb)\n",
    "- [setproperties](output_notebooks/3d-python-outputcommands-setproperties.ipynb)\n",
    "- [show](output_notebooks/3d-python-outputcommands-show.ipynb)\n",
    "- [sleep](output_notebooks/3d-python-outputcommands-sleep.ipynb)\n",
    "- [slice](output_notebooks/3d-python-outputcommands-slice.ipynb)\n",
    "- [structuralforcesplot](output_notebooks/3d-python-outputcommands-structuralforcesplot.ipynb)\n",
    "- [structureplot](output_notebooks/3d-python-outputcommands-structureplot.ipynb)\n"
   ]
  },
  {
   "cell_type": "markdown",
   "metadata": {
    "heading_collapsed": true,
    "hidden": true
   },
   "source": [
    "#### T"
   ]
  },
  {
   "cell_type": "markdown",
   "metadata": {
    "hidden": true
   },
   "source": [
    "- [tabulate](output_notebooks/3d-python-outputcommands-tabulate.ipynb)\n",
    "- [testasync](output_notebooks/3d-python-outputcommands-testasync.ipynb)\n"
   ]
  },
  {
   "cell_type": "markdown",
   "metadata": {
    "heading_collapsed": true,
    "hidden": true
   },
   "source": [
    "#### U"
   ]
  },
  {
   "cell_type": "markdown",
   "metadata": {
    "hidden": true
   },
   "source": [
    "- [update](output_notebooks/3d-python-outputcommands-update.ipynb)\n"
   ]
  },
  {
   "cell_type": "markdown",
   "metadata": {
    "heading_collapsed": true,
    "hidden": true
   },
   "source": [
    "#### V"
   ]
  },
  {
   "cell_type": "markdown",
   "metadata": {
    "hidden": true
   },
   "source": [
    "- [view](output_notebooks/3d-python-outputcommands-view.ipynb)\n"
   ]
  },
  {
   "cell_type": "markdown",
   "metadata": {
    "heading_collapsed": true,
    "hidden": true
   },
   "source": [
    "#### Z"
   ]
  },
  {
   "cell_type": "markdown",
   "metadata": {
    "hidden": true
   },
   "source": [
    "- [zoom](output_notebooks/3d-python-outputcommands-zoom.ipynb)\n"
   ]
  },
  {
   "cell_type": "markdown",
   "metadata": {},
   "source": [
    "### Sample scripts"
   ]
  },
  {
   "cell_type": "markdown",
   "metadata": {},
   "source": [
    "- [Input scripts](sample_scripts_notebooks/3d-python-samplescripts-input.ipynb)\n",
    "- [Output scripts](sample_scripts_notebooks/3d-python-samplescripts-output.ipynb)\n",
    "- [Input - get_equivalent](sample_scripts_notebooks/3d-python-samplescripts-get_equivalent-input.ipynb)\n",
    "- [Output - get_equivalent](sample_scripts_notebooks/3d-python-samplescripts-get_equivalent-output.ipynb)\n",
    "- [Input - _plx_type](sample_scripts_notebooks/3d-python-samplescripts-plx_type-input.ipynb)\n"
   ]
  }
 ],
 "metadata": {
  "auth": "AC, RB, MP",
  "kernelspec": {
   "display_name": "PLAXIS Python 3",
   "language": "python",
   "name": "plaxis_python3"
  },
  "language_info": {
   "codemirror_mode": {
    "name": "ipython",
    "version": 3
   },
   "file_extension": ".py",
   "mimetype": "text/x-python",
   "name": "python",
   "nbconvert_exporter": "python",
   "pygments_lexer": "ipython3",
   "version": "3.12.3"
  },
  "toc": {
   "base_numbering": 1,
   "nav_menu": {
    "height": "512px",
    "width": "252px"
   },
   "number_sections": false,
   "sideBar": true,
   "skip_h1_title": false,
   "title_cell": "Table of Contents",
   "title_sidebar": "Contents",
   "toc_cell": false,
   "toc_position": {
    "height": "927px",
    "left": "0px",
    "right": "auto",
    "top": "107px",
    "width": "212px"
   },
   "toc_section_display": "block",
   "toc_window_display": true
  }
 },
 "nbformat": 4,
 "nbformat_minor": 4
}
